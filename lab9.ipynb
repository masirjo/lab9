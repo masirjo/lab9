{
  "cells": [
    {
      "cell_type": "code",
      "execution_count": null,
      "metadata": {
        "id": "ehhkuxDxe67y"
      },
      "outputs": [],
      "source": [
        "import pandas as pd\n",
        "import random\n",
        "import matplotlib.pyplot as plt\n",
        "import math as math\n",
        "%matplotlib inline\n",
        "\n",
        "# 1\n",
        "psg = pd.read_csv('/titanic.csv')\n",
        "psg.info()"
      ]
    },
    {
      "cell_type": "code",
      "execution_count": null,
      "metadata": {
        "id": "PH9zHZJDlkBd"
      },
      "outputs": [],
      "source": [
        "# 2.1\n",
        "a_s = psg[(psg[\"Age\"] >= 30) & (psg[\"Age\"] < 40) & (psg[\"Sex\"] == \"male\")]\n",
        "a_s"
      ]
    },
    {
      "cell_type": "code",
      "execution_count": null,
      "metadata": {
        "id": "3cm6yE2gmFGt"
      },
      "outputs": [],
      "source": [
        "# 2.2\n",
        "a_s2 = psg[((psg[\"Age\"] < 25) & (psg[\"Sex\"] == \"female\")) | (psg[\"Pclass\"] == 1) & (psg[\"Survived\"] == 1)]\n",
        "a_s2"
      ]
    },
    {
      "cell_type": "code",
      "execution_count": null,
      "metadata": {
        "id": "X9chfkZtluhL"
      },
      "outputs": [
        {
          "ename": "",
          "evalue": "",
          "output_type": "error",
          "traceback": [
            "\u001b[1;31mДля выполнения ячеек с \"c:\\Users\\super\\AppData\\Local\\Programs\\Python\\Python310\\python.exe\" требуется пакет ipykernel.\n",
            "\u001b[1;31mВыполните следующую команду, чтобы установить \"ipykernel\" в среде Python. \n",
            "\u001b[1;31mКоманда: \"c:/Users/super/AppData/Local/Programs/Python/Python310/python.exe -m pip install ipykernel -U --user --force-reinstall\""
          ]
        }
      ],
      "source": [
        "# 3\n",
        "s_s = psg.groupby([\"Sex\",\"Pclass\"]).size()\n",
        "s_s.plot.bar()"
      ]
    },
    {
      "cell_type": "code",
      "execution_count": null,
      "metadata": {
        "id": "ClUoBxvGlzcF"
      },
      "outputs": [],
      "source": [
        "# 4\n",
        "a_s3 = psg[(psg[\"Age\"] < 25)]\n",
        "a_s3\n",
        "\n",
        "s_s = psg.groupby([\"Sex\",\"Pclass\",\"Survived\"]).size()\n",
        "s_s.plot.bar()"
      ]
    }
  ],
  "metadata": {
    "colab": {
      "provenance": []
    },
    "kernelspec": {
      "display_name": "Python 3",
      "language": "python",
      "name": "python3"
    },
    "language_info": {
      "name": "python",
      "version": "3.10.7 (tags/v3.10.7:6cc6b13, Sep  5 2022, 14:08:36) [MSC v.1933 64 bit (AMD64)]"
    },
    "vscode": {
      "interpreter": {
        "hash": "118d2d70b9837ec74e99cd8e271bd7c1e24309015268c38b027840ab45e80ec0"
      }
    }
  },
  "nbformat": 4,
  "nbformat_minor": 0
}
